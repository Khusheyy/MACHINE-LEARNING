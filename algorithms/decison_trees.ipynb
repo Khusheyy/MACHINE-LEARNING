{
 "cells": [
  {
   "cell_type": "markdown",
   "id": "bdbd643c",
   "metadata": {},
   "source": [
    "**decision trees**\n",
    "- basically it is a giant structure of nestted if-else condition\n",
    "- you can divide/categorize your data into subtrees - similar to a tree structure -> explain root, leaf nodes, subtree\n",
    "\n",
    "> akinator - uses decision trees to guess your predicted object/charector/animal"
   ]
  },
  {
   "cell_type": "code",
   "execution_count": 1,
   "id": "28d762dd",
   "metadata": {},
   "outputs": [],
   "source": [
    "import numpy as np\n",
    "import matplotlib.pyplot as plt\n"
   ]
  },
  {
   "cell_type": "code",
   "execution_count": null,
   "id": "49fc2bdb",
   "metadata": {},
   "outputs": [],
   "source": [
    "# "
   ]
  }
 ],
 "metadata": {
  "kernelspec": {
   "display_name": "mlenv",
   "language": "python",
   "name": "python3"
  },
  "language_info": {
   "codemirror_mode": {
    "name": "ipython",
    "version": 3
   },
   "file_extension": ".py",
   "mimetype": "text/x-python",
   "name": "python",
   "nbconvert_exporter": "python",
   "pygments_lexer": "ipython3",
   "version": "3.13.6"
  }
 },
 "nbformat": 4,
 "nbformat_minor": 5
}
