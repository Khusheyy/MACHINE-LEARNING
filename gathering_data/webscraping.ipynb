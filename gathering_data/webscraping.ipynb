{
 "cells": [
  {
   "cell_type": "markdown",
   "id": "3669f708",
   "metadata": {},
   "source": [
    "**web scraping**"
   ]
  },
  {
   "cell_type": "markdown",
   "id": "03df9c45",
   "metadata": {},
   "source": []
  }
 ],
 "metadata": {
  "language_info": {
   "name": "python"
  }
 },
 "nbformat": 4,
 "nbformat_minor": 5
}
