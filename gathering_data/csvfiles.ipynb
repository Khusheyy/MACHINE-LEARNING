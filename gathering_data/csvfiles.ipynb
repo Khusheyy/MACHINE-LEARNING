{
 "cells": [
  {
   "cell_type": "markdown",
   "id": "30dcb330",
   "metadata": {},
   "source": [
    "## gathering data using csv files \n",
    "   - csv has a lot of parameters.\n",
    "   - tsv , sep = '\\t'"
   ]
  },
  {
   "cell_type": "markdown",
   "id": "0af90ab4",
   "metadata": {},
   "source": []
  }
 ],
 "metadata": {
  "language_info": {
   "name": "python"
  }
 },
 "nbformat": 4,
 "nbformat_minor": 5
}
