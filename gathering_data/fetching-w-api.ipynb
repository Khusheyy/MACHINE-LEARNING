{
 "cells": [
  {
   "cell_type": "markdown",
   "id": "2ca57aa2",
   "metadata": {},
   "source": [
    "**fetching data from an api**\n",
    "api- application programming interface\n",
    "bascially how 2 softwares talk to each other, share info among eachother\n",
    "data pipelines - which help transfer data from one point to another\n"
   ]
  },
  {
   "cell_type": "code",
   "execution_count": 1,
   "id": "e6f3738a",
   "metadata": {},
   "outputs": [],
   "source": [
    "import pandas as pd"
   ]
  },
  {
   "cell_type": "code",
   "execution_count": null,
   "id": "d90eb704",
   "metadata": {},
   "outputs": [],
   "source": []
  }
 ],
 "metadata": {
  "kernelspec": {
   "display_name": "mlenv",
   "language": "python",
   "name": "python3"
  },
  "language_info": {
   "codemirror_mode": {
    "name": "ipython",
    "version": 3
   },
   "file_extension": ".py",
   "mimetype": "text/x-python",
   "name": "python",
   "nbconvert_exporter": "python",
   "pygments_lexer": "ipython3",
   "version": "3.13.6"
  }
 },
 "nbformat": 4,
 "nbformat_minor": 5
}
