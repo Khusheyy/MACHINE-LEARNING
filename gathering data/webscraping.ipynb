{
 "cells": [
  {
   "cell_type": "markdown",
   "id": "3669f708",
   "metadata": {},
   "source": [
    "**web scraping**"
   ]
  },
  {
   "cell_type": "code",
   "execution_count": 1,
   "id": "eeb7fb92",
   "metadata": {},
   "outputs": [
    {
     "name": "stdout",
     "output_type": "stream",
     "text": [
      "web scraping\n"
     ]
    }
   ],
   "source": [
    "print(\"web scraping\")"
   ]
  },
  {
   "cell_type": "code",
   "execution_count": null,
   "id": "7ceacc0e",
   "metadata": {},
   "outputs": [],
   "source": []
  }
 ],
 "metadata": {
  "kernelspec": {
   "display_name": "mlenv",
   "language": "python",
   "name": "python3"
  },
  "language_info": {
   "codemirror_mode": {
    "name": "ipython",
    "version": 3
   },
   "file_extension": ".py",
   "mimetype": "text/x-python",
   "name": "python",
   "nbconvert_exporter": "python",
   "pygments_lexer": "ipython3",
   "version": "3.13.6"
  }
 },
 "nbformat": 4,
 "nbformat_minor": 5
}
