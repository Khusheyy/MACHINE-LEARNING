{
 "cells": [
  {
   "cell_type": "markdown",
   "id": "53d7c31f",
   "metadata": {},
   "source": [
    "**feature engineering**\n",
    " a proccess of using domain knowledge to extract features from raw data, these features are then used to improvet thhe performance of ml models\n",
    "\n",
    "4 major \n",
    "- feature transformation\n",
    "- feature construction\n",
    "- feature selection\n",
    "- feature extraction"
   ]
  },
  {
   "cell_type": "markdown",
   "id": "d5a3b593",
   "metadata": {},
   "source": [
    "*feature scaling*  is basically a technique to standardizee the individual or independent features present in data in a fixed range \n",
    "- standardization \n",
    "- normalization\n"
   ]
  },
  {
   "cell_type": "markdown",
   "id": "4affad01",
   "metadata": {},
   "source": [
    "standardization is scaling technique that transforms features so that they have a mean of 0 and a standard deviation of 1 <br>\n",
    " for standardization is x \n",
    "′\n",
    " =(x−mean(x))/std(x)"
   ]
  },
  {
   "cell_type": "code",
   "execution_count": 1,
   "id": "4ec63ffc",
   "metadata": {},
   "outputs": [],
   "source": [
    "import numpy as np\n",
    "import matplotlib.pyplot as plt\n",
    "import pandas as pd\n",
    "import seaborn as sns"
   ]
  },
  {
   "cell_type": "markdown",
   "id": "adeb7aed",
   "metadata": {},
   "source": []
  }
 ],
 "metadata": {
  "kernelspec": {
   "display_name": ".venv",
   "language": "python",
   "name": "python3"
  },
  "language_info": {
   "codemirror_mode": {
    "name": "ipython",
    "version": 3
   },
   "file_extension": ".py",
   "mimetype": "text/x-python",
   "name": "python",
   "nbconvert_exporter": "python",
   "pygments_lexer": "ipython3",
   "version": "3.13.6"
  }
 },
 "nbformat": 4,
 "nbformat_minor": 5
}
