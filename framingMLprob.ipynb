{
 "cells": [
  {
   "cell_type": "markdown",
   "id": "d7c0e208",
   "metadata": {},
   "source": [
    "1. bussines problem to ml problem -> netflix\n",
    "=> decrease the churn rate\n",
    "\n",
    "2. know the type of problem \n",
    "=> classification / regression\n",
    "\n",
    "3. cureent solution available?\n",
    "=>\n",
    "\n",
    "4. getting data (most imp - most time taking)\n",
    " => watch time\n",
    " => search but did not find\n",
    " => content left unwatched in the middle\n",
    " => click on recommendation ( order of recommendation )\n",
    "\n",
    "get a data enginner -> which will get data from the og databse of netflix (oltp) and frame it inot a dataware house\n",
    "\n",
    "5. metrics to measure\n",
    "\n",
    "=> define some metric/ paramenters to know whether your prediction is right or wrong \n",
    "=> does your predictiom match the actual churn\n",
    "=> are the same ppl leaving or others?\n",
    "\n",
    "6. online learning OR batch learning ?\n",
    "\n",
    "online learning is preffered - kyuki volatile data h\n",
    "=> volatile changes - lockdown or holidays will have more ppl\n",
    "=> work/ exam season - more ppl will leave or delete \n",
    "\n",
    "7. check your assumptions \n",
    "\n",
    "=> is the data you need available? \n",
    "=> mnc - since all pppl in the world use it, should you change your assumptions based on location/ geography/ time zones ... \n",
    "=> think in every way "
   ]
  },
  {
   "cell_type": "markdown",
   "id": "776b86e2",
   "metadata": {},
   "source": []
  },
  {
   "cell_type": "markdown",
   "id": "572c36f3",
   "metadata": {},
   "source": [
    "## Steps to Address Decreasing Churn Rate for Netflix Using ML\n",
    "1. *Business Problem to ML Problem*\n",
    "   - Business Problem: Decrease the churn rate for Netflix.\n",
    "   - ML Problem: Predict which users are likely to churn based on their behavior, preferences, and other relevant factors.\n",
    "\n",
    "2. *Know the Type of Problem*\n",
    "   - Type of problem: Classification / Regression.\n",
    "   - Specifically, this is a *classification problem* because you're trying to predict whether a user will churn (yes/no).\n",
    "\n",
    "3. *Current Solution Available?*\n",
    "   - Assessing existing methods or models Netflix might be using to manage churn.\n",
    "\n",
    "4. *Getting Data*\n",
    "   - Getting data is most important and most time-taking.\n",
    "   - Data sources: Watch time, search but did not find, content left unwatched in the middle, click on recommendation (order of recommendation).\n",
    "   - Involves getting a **data engineer** to extract data from Netflix's original database (OLTP) and frame it into a data warehouse.\n",
    "\n",
    "5. *Metrics to Measure*\n",
    "   - Define metrics/parameters to know whether your prediction is right or wrong.\n",
    "   - Check if your prediction matches the actual churn.\n",
    "   - Analyze if the same people leaving are the ones predicted or others.\n",
    "\n",
    "6. *Online Learning OR Batch Learning?*\n",
    "   - Online learning is preferred because the data is volatile.\n",
    "   - Volatile changes like lockdown or holidays will have more people interacting differently, work/exam season might have more people leave or delete.\n",
    "\n",
    "7. *Check Your Assumptions*\n",
    "   - Check if the data you need is available.\n",
    "   - Considering Netflix is an MNC used by people worldwide, think about changing assumptions based on location/geography/time zones.\n",
    "   - Think in every way about the assumptions made.\n"
   ]
  },
  {
   "cell_type": "markdown",
   "id": "2c75d632",
   "metadata": {},
   "source": []
  }
 ],
 "metadata": {
  "language_info": {
   "name": "python"
  }
 },
 "nbformat": 4,
 "nbformat_minor": 5
}
