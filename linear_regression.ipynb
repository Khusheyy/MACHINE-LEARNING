{
 "cells": [
  {
   "cell_type": "code",
   "execution_count": null,
   "id": "f46c7d82-2a8a-452f-ac3d-56365cd9aacb",
   "metadata": {},
   "outputs": [],
   "source": []
  }
 ],
 "metadata": {
  "kernelspec": {
   "display_name": "",
   "name": ""
  },
  "language_info": {
   "name": ""
  }
 },
 "nbformat": 4,
 "nbformat_minor": 5
}
